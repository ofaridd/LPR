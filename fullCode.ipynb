{
  "cells": [
    {
      "cell_type": "code",
      "execution_count": null,
      "metadata": {
        "colab": {
          "base_uri": "https://localhost:8080/",
          "height": 1000
        },
        "id": "1IN0zi-Ux-DF",
        "outputId": "30ecd24c-6ac1-4446-e496-7b5a7a6378f5"
      },
      "outputs": [],
      "source": [
        "!pip install ultralytics\n",
        "!pip install roboflow"
      ]
    },
    {
      "cell_type": "code",
      "execution_count": null,
      "metadata": {
        "colab": {
          "base_uri": "https://localhost:8080/"
        },
        "id": "KLAtX_lyyO6d",
        "outputId": "589c87f0-1bbb-4275-aff4-78246dcf892a"
      },
      "outputs": [],
      "source": [
        "from roboflow import Roboflow\n",
        "rf = Roboflow(api_key=\"N2EuPXeo6V8efLZNqx82\")\n",
        "project = rf.workspace(\"platesdataset\").project(\"vehicle-dataset-tkbzh\")\n",
        "version = project.version(1)\n",
        "dataset = version.download(\"yolov8\")"
      ]
    },
    {
      "cell_type": "code",
      "execution_count": null,
      "metadata": {
        "colab": {
          "base_uri": "https://localhost:8080/"
        },
        "collapsed": true,
        "id": "Jy3ptCoYzFae",
        "outputId": "cb603c9e-c9c0-4d26-a8b9-cc3dc779cd10"
      },
      "outputs": [],
      "source": [
        "from ultralytics import YOLO\n",
        "\n",
        "model = YOLO(\"yolov8n.yaml\")\n",
        "results = model.train(data=\"/content/Vehicle-Dataset-1/data.yaml\", epochs=100, imgsz=640)"
      ]
    },
    {
      "cell_type": "code",
      "execution_count": null,
      "metadata": {
        "colab": {
          "base_uri": "https://localhost:8080/"
        },
        "id": "uzTkBoFO00ph",
        "outputId": "fb922e74-7a8d-4371-ee24-1d5d76bad619"
      },
      "outputs": [],
      "source": [
        "model = YOLO('/content/runs/detect/train4/weights/best.pt')\n",
        "result = model.predict('/content/test.jpg', save=True, conf=0.5, show_conf=False, agnostic_nms=True, save_crop=True, show_boxes= True)"
      ]
    },
    {
      "cell_type": "code",
      "execution_count": 14,
      "metadata": {
        "colab": {
          "base_uri": "https://localhost:8080/"
        },
        "id": "tzuqRxiJ1Vmq",
        "outputId": "ec87aa4c-5803-4c58-f38b-9f2b54b43dc0"
      },
      "outputs": [
        {
          "name": "stdout",
          "output_type": "stream",
          "text": [
            "\n",
            "Downloading https://ultralytics.com/assets/Arial.Unicode.ttf to '/root/.config/Ultralytics/Arial.Unicode.ttf'...\n"
          ]
        },
        {
          "name": "stderr",
          "output_type": "stream",
          "text": [
            "100%|██████████| 22.2M/22.2M [00:00<00:00, 150MB/s]\n"
          ]
        },
        {
          "name": "stdout",
          "output_type": "stream",
          "text": [
            "image 1/1 /content/runs/detect/predict6/crops/Plates/test.jpg: 288x640 1 ٣, 1 ٧, 2 ٩s, 1 ا, 1 ص, 1 ى, 105.8ms\n",
            "Speed: 1.7ms preprocess, 105.8ms inference, 1.7ms postprocess per image at shape (1, 3, 288, 640)\n",
            "Results saved to \u001b[1mruns/detect/predict7\u001b[0m\n"
          ]
        }
      ],
      "source": [
        "model = YOLO('/content/best.pt')\n",
        "result = model.predict('/content/runs/detect/predict6/crops/Plates/test.jpg', save=True, conf=0.2, show_conf=False, agnostic_nms=True)"
      ]
    },
    {
      "cell_type": "code",
      "execution_count": null,
      "metadata": {
        "colab": {
          "base_uri": "https://localhost:8080/"
        },
        "id": "GYk8EDgv6GbY",
        "outputId": "32a57fb7-a62f-43c8-e8d4-d75fd1f20d7b"
      },
      "outputs": [],
      "source": [
        "import numpy as np\n",
        "\n",
        "results = model('/content/runs/detect/predict7/test.jpg')\n",
        "\n",
        "boxes = []\n",
        "for r in results:\n",
        "  boxes = r.boxes.data.cpu().numpy() #returns coordinates of each letter detected\n",
        "\n",
        "order = results[0].boxes.data.cpu().numpy()[..., 0:1].argsort(0)\n",
        "ordered_data = results[0].boxes.data.cpu().numpy()[order.squeeze()]\n",
        "boxes, conf, classes = ordered_data[..., :-2], ordered_data[...,-2:-1], ordered_data[..., -1:]\n",
        "print(order)\n",
        "print(ordered_data)\n",
        "    #for r in results:\n",
        "     #   z = r.boxes.xyxy #returns coordinates of each letter detected\n",
        "    #detected_classes = np.empty((6), dtype=str)\n",
        "   # boxes_1d = boxes[:,0]\n",
        "    #detected_classes = []\n",
        "    #print(detected_classes)\n",
        "   # for result in results:\n",
        "    #    detected_classes.extend([model.names[c] for c in result.boxes.cls.tolist()])\n",
        "\n",
        "print(\"This is sorted coordinates \", boxes)\n",
        "print(\"Here are the Sorted detected plate classes: \")\n",
        "x = [model.names[int(c)] for c in classes]\n",
        "print(x)\n",
        "z = np.flip(x)\n",
        "\n",
        "print(z)"
      ]
    }
  ],
  "metadata": {
    "accelerator": "GPU",
    "colab": {
      "gpuType": "T4",
      "provenance": []
    },
    "kernelspec": {
      "display_name": "Python 3",
      "name": "python3"
    },
    "language_info": {
      "name": "python"
    }
  },
  "nbformat": 4,
  "nbformat_minor": 0
}
